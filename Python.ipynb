{
 "cells": [
  {
   "cell_type": "markdown",
   "metadata": {},
   "source": [
    "# General Python code"
   ]
  },
  {
   "cell_type": "code",
   "execution_count": null,
   "metadata": {},
   "outputs": [],
   "source": [
    "\"\"\"\n",
    "Comment out more lines\n",
    "\"\"\""
   ]
  },
  {
   "cell_type": "code",
   "execution_count": null,
   "metadata": {},
   "outputs": [],
   "source": [
    "Vedi file Sample-code.py\n"
   ]
  },
  {
   "cell_type": "markdown",
   "metadata": {},
   "source": [
    "__Naming conventions:__\n",
    "    \n",
    "https://www.cs.toronto.edu/~guerzhoy/180/lectures/W02/lec2/VariableNamingConvetions.html\n",
    "\n",
    "We generally use pothole case (or Snake Case) in Python: \n",
    "\n",
    "lowercase_words_separated_by_underscores"
   ]
  },
  {
   "cell_type": "markdown",
   "metadata": {},
   "source": [
    "### Printing and formatting"
   ]
  },
  {
   "cell_type": "code",
   "execution_count": null,
   "metadata": {},
   "outputs": [],
   "source": [
    "# Printing strings, float, integers:\n",
    "print('a = ', a, ' b = ', b)   # simplest\n",
    "print(\"String: %s\" % mystring)\n",
    "print(\"Float: %f\" % myfloat)\n",
    "print(\"Integer: %d\" % myint)"
   ]
  },
  {
   "cell_type": "code",
   "execution_count": 5,
   "metadata": {},
   "outputs": [
    {
     "name": "stdout",
     "output_type": "stream",
     "text": [
      "a = 100,000,000\n",
      "33.3%\n"
     ]
    }
   ],
   "source": [
    "a = 100000000  # thousands formatting\n",
    "str= 'a = %s' % format(a, ',')  # a = 100,000,000\n",
    "print(str)\n",
    "print('{:.1%}'.format(1/3.0) )   #  % format"
   ]
  },
  {
   "cell_type": "code",
   "execution_count": null,
   "metadata": {},
   "outputs": [],
   "source": [
    "# More string formatting examples\n",
    "\n",
    "https://docs.python.org/2/library/string.html#format-examples"
   ]
  },
  {
   "cell_type": "markdown",
   "metadata": {},
   "source": [
    "Multiple arguments: https://stackoverflow.com/questions/15286401/print-multiple-arguments-in-python\n",
    "\n",
    "\n",
    "See formatting of numbers (thousands separator):\n",
    "\n",
    "- https://stackoverflow.com/questions/49165548/python-thousands-separator-old-formatting-syntax\n",
    "\n",
    "- https://docs.python.org/3/library/stdtypes.html?highlight=printf#printf-style-string-formatting"
   ]
  },
  {
   "cell_type": "markdown",
   "metadata": {},
   "source": [
    "### Iterators"
   ]
  },
  {
   "cell_type": "code",
   "execution_count": null,
   "metadata": {},
   "outputs": [],
   "source": [
    "squares=['red','yellow','green']\n",
    "for i, square in enumerate(squares):\n",
    "    square\n",
    "    i"
   ]
  },
  {
   "cell_type": "code",
   "execution_count": null,
   "metadata": {},
   "outputs": [],
   "source": [
    "for i in range(4):\n",
    "    print(str(i))"
   ]
  },
  {
   "cell_type": "markdown",
   "metadata": {},
   "source": [
    "https://stackoverflow.com/questions/3266180/can-iterators-be-reset-in-python\n",
    "    \n",
    "https://stackoverflow.com/questions/3114252/one-liner-to-check-whether-an-iterator-yields-at-least-one-element"
   ]
  },
  {
   "cell_type": "markdown",
   "metadata": {},
   "source": [
    "### Mix"
   ]
  },
  {
   "cell_type": "code",
   "execution_count": null,
   "metadata": {},
   "outputs": [],
   "source": [
    "if A != 0 and B != 0:\n",
    "        C = D/(A*B)\n",
    "    else:\n",
    "        C = 0"
   ]
  },
  {
   "cell_type": "code",
   "execution_count": 4,
   "metadata": {},
   "outputs": [
    {
     "name": "stdout",
     "output_type": "stream",
     "text": [
      "Press Enter to terminate.\n"
     ]
    },
    {
     "data": {
      "text/plain": [
       "str"
      ]
     },
     "execution_count": 4,
     "metadata": {},
     "output_type": "execute_result"
    }
   ],
   "source": [
    "name = input(\"Press Enter to terminate.\")\n",
    "type(name)"
   ]
  },
  {
   "cell_type": "markdown",
   "metadata": {},
   "source": [
    "### List"
   ]
  },
  {
   "cell_type": "code",
   "execution_count": null,
   "metadata": {},
   "outputs": [],
   "source": [
    "mylist = []\n",
    "mylist.append(1)\n",
    "mylist.append(2)\n",
    "mylist.append(3)\n",
    "print(mylist[0]) # prints 1\n",
    "\n",
    "for x in mylist:\n",
    "    print(x)\n",
    "\n",
    "print(mylist)  # prints [1, 2, 3]\n",
    "\n",
    "# print(mylist[10]) generates an out of range error\n",
    "\n",
    "numbers = []\n",
    "strings = []\n",
    "names = [\"John\", \"Eric\", \"Jessica\"]\n",
    "\n",
    "second_name = names[1]\n",
    "numbers.append(1)\n",
    "numbers.append(2)\n",
    "numbers.append(3)\n",
    "\n",
    "strings.append(\"Hello \")\n",
    "strings.append(\"World\")"
   ]
  },
  {
   "cell_type": "code",
   "execution_count": null,
   "metadata": {},
   "outputs": [],
   "source": [
    "# join lists:\n",
    "\n",
    "even_numbers = [2,4,6,8]\n",
    "odd_numbers = [1,3,5,7]\n",
    "all_numbers = even_numbers + odd_numbers\n",
    "print(all_numbers)\n",
    "\n",
    "print([1,2,3] * 3)"
   ]
  },
  {
   "cell_type": "markdown",
   "metadata": {},
   "source": [
    "### Dictionaries\n",
    "\n",
    "A dictionary is a data type similar to arrays, but works with keys and values instead of indexes.\n",
    "Each value stored in a dictionary can be accessed using a key, which is any type of object (a string, a number, a list, etc.) instead of using its index to address it."
   ]
  },
  {
   "cell_type": "code",
   "execution_count": null,
   "metadata": {},
   "outputs": [],
   "source": [
    "# a database of phone numbers\n",
    "\n",
    "print(\"\\nDictionaries:\")\n",
    "\n",
    "phonebook = {}\n",
    "phonebook[\"John\"] = 938477566\n",
    "phonebook[\"Jack\"] = 938377264\n",
    "phonebook[\"Jill\"] = 947662781\n",
    "#print(phonebook)\n",
    "\n",
    "# alternative notation:\n",
    "\n",
    "phonebook2 = {\n",
    "    \"John\" : 938477566,\n",
    "    \"Jack\" : 938377264,\n",
    "    \"Jill\" : 947662781\n",
    "}\n",
    "print(phonebook2)\n",
    "\n",
    "\n",
    "phonebook2.pop(\"Jill\")           # removing a value\n",
    "phonebook2[\"Stefano\"] = 1234567  # adding a value\n",
    "\n",
    "\n",
    "print(phonebook2)\n",
    "\n",
    "# iterating over dictionaries:\n",
    "for name, number in phonebook2.items():\n",
    "    print(\"Phone number of %s is %d\" % (name, number))"
   ]
  },
  {
   "cell_type": "markdown",
   "metadata": {},
   "source": [
    "### Time"
   ]
  },
  {
   "cell_type": "code",
   "execution_count": null,
   "metadata": {},
   "outputs": [],
   "source": [
    "import time\n",
    "\n",
    "print('Start : %s' % time.ctime())\n",
    "time.sleep( 5 )\n",
    "print('End : %s' % time.ctime())"
   ]
  },
  {
   "cell_type": "markdown",
   "metadata": {},
   "source": [
    "### File I/O"
   ]
  },
  {
   "cell_type": "markdown",
   "metadata": {},
   "source": [
    "parsing CSV files"
   ]
  },
  {
   "cell_type": "code",
   "execution_count": null,
   "metadata": {},
   "outputs": [],
   "source": [
    "# see https://realpython.com/python-csv/\n",
    "# Various vayes to read and write CSV \n",
    "\n",
    "print (\"Parsing csv file named: CSVfile.csv\")\n",
    "\n",
    "import csv\n",
    "\n",
    "with open('sample_data/CSVfile.csv') as csv_file:\n",
    "    reader = csv.reader(csv_file, delimiter=',')\n",
    "\n",
    "    print (\"\\nPrinting full row\")\n",
    "    for row in reader:\n",
    "        print (row)\n",
    "\n",
    "# can use iterator.next() as a better alterantive with more control\n",
    "\n",
    "    csv_file.seek(0) # to restart from the beginning \n",
    "    print (\"\\nPrinting columns 2 and 3\")\n",
    "    for row in reader:\n",
    "        print (f'\\t{row[2]},{row[3]}')\n",
    "\n",
    "# needs some code to check if the line is empty, otherwise it generates an error\n",
    "# see: https://stackoverflow.com/questions/3114252/one-liner-to-check-whether-an-iterator-yields-at-least-one-element"
   ]
  },
  {
   "cell_type": "markdown",
   "metadata": {},
   "source": [
    "generate csv files for tests"
   ]
  },
  {
   "cell_type": "code",
   "execution_count": null,
   "metadata": {},
   "outputs": [],
   "source": [
    "for x in range(20):\n",
    "    print(x)\n",
    "print(\"\\n\")\n",
    "\n",
    "colors = [\"white\", \"black\", \"green\"]\n",
    "countries = [\"Italy\", \"USA\", \"France\", \"Germany\"]\n",
    "for x in countries:\n",
    "    for y in colors:\n",
    "        #stri = colors[x] + \",\" + countries[y]\n",
    "        print(\"%s , %s\" % (x,y))\n",
    "\n",
    "\n",
    "# insert code to write to file .csv\n",
    "\n",
    "row=1\n",
    "colors = [\"white\", \"black\", \"green\"]\n",
    "countries = [\"Italy\", \"USA\", \"France\", \"Germany\"]\n",
    "for x in countries:\n",
    "    for y in colors:\n",
    "        for i in range(100):\n",
    "            print(\"%d,%s,%s,%d\" % (row,x,y,i))\n",
    "            row+=1"
   ]
  },
  {
   "cell_type": "markdown",
   "metadata": {},
   "source": [
    "Read and write text files"
   ]
  },
  {
   "cell_type": "code",
   "execution_count": null,
   "metadata": {},
   "outputs": [],
   "source": [
    "# Read and write text files\n",
    "\n",
    "# https://www.geeksforgeeks.org/reading-writing-text-files-python/\n",
    "# See many options in beginners_python_cheat_sheet_pcc_all.pdf\n",
    "\n",
    "# WRITING\n",
    "\n",
    "filename = \"sample_data/MyTestFile.txt\"\n",
    "file = open(filename,\"w\")  # file created or overwritten\n",
    "\n",
    "str = \"First line\"\n",
    "file.write(str)\n",
    "str = \"\\nSecond line\"\n",
    "file.write(str)\n",
    "\n",
    "file.close()\n",
    "\n",
    "# READING\n",
    "\n",
    "print(\"Here is the the content of file \", filename)\n",
    "file = open(filename)\n",
    "lines = file.readlines()\n",
    "for line in lines:\n",
    "    print(line)\n",
    "file.close()\n",
    "\n",
    "# Alternative reads\n",
    "\n",
    "print(\"\\nHere is the the content of file \", filename)\n",
    "\n",
    "with open(filename) as file:\n",
    "    contents = file.read()\n",
    "print(contents)\n",
    "\n",
    "file.close()"
   ]
  }
 ],
 "metadata": {
  "kernelspec": {
   "display_name": "Python 3",
   "language": "python",
   "name": "python3"
  },
  "language_info": {
   "codemirror_mode": {
    "name": "ipython",
    "version": 3
   },
   "file_extension": ".py",
   "mimetype": "text/x-python",
   "name": "python",
   "nbconvert_exporter": "python",
   "pygments_lexer": "ipython3",
   "version": "3.8.0"
  }
 },
 "nbformat": 4,
 "nbformat_minor": 4
}
