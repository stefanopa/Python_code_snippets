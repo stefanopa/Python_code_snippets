{
 "cells": [
  {
   "cell_type": "markdown",
   "metadata": {},
   "source": [
    "# pandas"
   ]
  },
  {
   "cell_type": "code",
   "execution_count": null,
   "metadata": {},
   "outputs": [],
   "source": []
  },
  {
   "cell_type": "markdown",
   "metadata": {},
   "source": [
    "Great cheatsheet: https://drive.google.com/drive/u/1/folders/0ByIrJAE4KMTtaGhRcXkxNHhmY2M"
   ]
  },
  {
   "cell_type": "code",
   "execution_count": 1,
   "metadata": {},
   "outputs": [],
   "source": [
    "import pandas as pd"
   ]
  },
  {
   "cell_type": "markdown",
   "metadata": {},
   "source": [
    "## Dictionary"
   ]
  },
  {
   "cell_type": "code",
   "execution_count": 5,
   "metadata": {},
   "outputs": [
    {
     "name": "stdout",
     "output_type": "stream",
     "text": [
      "Building a dataframe from a dictionary\n"
     ]
    },
    {
     "data": {
      "text/html": [
       "<div>\n",
       "<style scoped>\n",
       "    .dataframe tbody tr th:only-of-type {\n",
       "        vertical-align: middle;\n",
       "    }\n",
       "\n",
       "    .dataframe tbody tr th {\n",
       "        vertical-align: top;\n",
       "    }\n",
       "\n",
       "    .dataframe thead th {\n",
       "        text-align: right;\n",
       "    }\n",
       "</style>\n",
       "<table border=\"1\" class=\"dataframe\">\n",
       "  <thead>\n",
       "    <tr style=\"text-align: right;\">\n",
       "      <th></th>\n",
       "      <th>Al</th>\n",
       "      <th>Year</th>\n",
       "      <th>Len</th>\n",
       "    </tr>\n",
       "  </thead>\n",
       "  <tbody>\n",
       "    <tr>\n",
       "      <th>0</th>\n",
       "      <td>A</td>\n",
       "      <td>2000</td>\n",
       "      <td>5</td>\n",
       "    </tr>\n",
       "    <tr>\n",
       "      <th>1</th>\n",
       "      <td>B</td>\n",
       "      <td>2001</td>\n",
       "      <td>10</td>\n",
       "    </tr>\n",
       "    <tr>\n",
       "      <th>2</th>\n",
       "      <td>C</td>\n",
       "      <td>2003</td>\n",
       "      <td>20</td>\n",
       "    </tr>\n",
       "  </tbody>\n",
       "</table>\n",
       "</div>"
      ],
      "text/plain": [
       "  Al  Year Len\n",
       "0  A  2000   5\n",
       "1  B  2001  10\n",
       "2  C  2003  20"
      ]
     },
     "execution_count": 5,
     "metadata": {},
     "output_type": "execute_result"
    }
   ],
   "source": [
    "print('Building a dataframe from a dictionary')\n",
    "\n",
    "albums_dict = {'Al':['A','B','C'],\n",
    "               'Year':['2000','2001','2003'],\n",
    "               'Len':['5','10','20']}\n",
    "\n",
    "songs_df = pd.DataFrame(albums_dict)\n",
    "songs_df"
   ]
  },
  {
   "cell_type": "code",
   "execution_count": 7,
   "metadata": {},
   "outputs": [
    {
     "data": {
      "text/html": [
       "<div>\n",
       "<style scoped>\n",
       "    .dataframe tbody tr th:only-of-type {\n",
       "        vertical-align: middle;\n",
       "    }\n",
       "\n",
       "    .dataframe tbody tr th {\n",
       "        vertical-align: top;\n",
       "    }\n",
       "\n",
       "    .dataframe thead th {\n",
       "        text-align: right;\n",
       "    }\n",
       "</style>\n",
       "<table border=\"1\" class=\"dataframe\">\n",
       "  <thead>\n",
       "    <tr style=\"text-align: right;\">\n",
       "      <th></th>\n",
       "      <th>Year</th>\n",
       "      <th>Len</th>\n",
       "    </tr>\n",
       "  </thead>\n",
       "  <tbody>\n",
       "    <tr>\n",
       "      <th>0</th>\n",
       "      <td>2000</td>\n",
       "      <td>5</td>\n",
       "    </tr>\n",
       "    <tr>\n",
       "      <th>1</th>\n",
       "      <td>2001</td>\n",
       "      <td>10</td>\n",
       "    </tr>\n",
       "    <tr>\n",
       "      <th>2</th>\n",
       "      <td>2003</td>\n",
       "      <td>20</td>\n",
       "    </tr>\n",
       "  </tbody>\n",
       "</table>\n",
       "</div>"
      ],
      "text/plain": [
       "   Year Len\n",
       "0  2000   5\n",
       "1  2001  10\n",
       "2  2003  20"
      ]
     },
     "execution_count": 7,
     "metadata": {},
     "output_type": "execute_result"
    }
   ],
   "source": [
    "# creating a new df with only selected columns\n",
    "df = songs_df[['Year','Len']]\n",
    "df"
   ]
  },
  {
   "cell_type": "markdown",
   "metadata": {},
   "source": [
    "## Series - S"
   ]
  },
  {
   "cell_type": "code",
   "execution_count": null,
   "metadata": {},
   "outputs": [],
   "source": [
    "len(S)\n",
    "\n",
    "S_filtered = S[ S < 100 ]  # filters only values < 100\n",
    "\n",
    "# create a Series with a loop from scratch, add elements to Series\n",
    "IPM_years = [2006, 2007, 2008, 2009, 2019, 2011, 2012, 2013, 2014, 2015, 2016]\n",
    "IPM_file_names = pd.Series()\n",
    "for IPM_yr in IPM_years:\n",
    "    IPM_file_name = 'IPM full database/' + str(IPM_yr) + 'Poles.xlsx'\n",
    "    IPM_file_names.at[IPM_yr] = IPM_file_name  "
   ]
  },
  {
   "cell_type": "code",
   "execution_count": null,
   "metadata": {},
   "outputs": [],
   "source": [
    "# create and add elements to a list: (no need to create the empty list first)\n",
    "s['2000'] = 100"
   ]
  },
  {
   "cell_type": "code",
   "execution_count": null,
   "metadata": {},
   "outputs": [],
   "source": [
    "# File dump: Output a series or a piece of df to a text file\n",
    "\n",
    "msg = df.Column.value_counts().to_string()     # index=False, justify='left'  if it's a piece of df: df[df.Column == value]\n",
    "with open(\"msg.txt\", \"w\") as text_file:\n",
    "    text_file.write(msg)"
   ]
  },
  {
   "cell_type": "markdown",
   "metadata": {},
   "source": [
    "## Dataframe - df"
   ]
  },
  {
   "cell_type": "markdown",
   "metadata": {},
   "source": [
    "http://wavedatalab.github.io/datawithpython/munge.html\n",
    "\n",
    "https://towardsdatascience.com/23-great-pandas-codes-for-data-scientists-cca5ed9d8a38\n",
    "\n",
    "Very good cheatsheet: https://drive.google.com/drive/u/1/folders/0ByIrJAE4KMTtaGhRcXkxNHhmY2M\n"
   ]
  },
  {
   "cell_type": "code",
   "execution_count": null,
   "metadata": {},
   "outputs": [],
   "source": [
    "df = pd.DataFrame({'temp_c': [17.0, 25.0]}, index=['Portland', 'Berkeley'])\n",
    "\n",
    "df = df.assign(temp_f=df['temp_c'] * 9 / 5 + 32)\n",
    "\n",
    "print(df)"
   ]
  },
  {
   "cell_type": "code",
   "execution_count": null,
   "metadata": {},
   "outputs": [],
   "source": [
    "Create an empty dataframe:\n",
    "Empty_array = []\n",
    "MyEmptydf = pd.DataFrame()           # new empty df\n",
    "Empty_Series = pd.Series([])              # new empty Series\n",
    "\n",
    "df = pd.DataFrame(columns=['X', 'Y', 'Z'])   # with defined columns\n",
    "df.loc[len(df)] = [1, 2, 3] to add values - simplest case, not robust"
   ]
  },
  {
   "cell_type": "code",
   "execution_count": null,
   "metadata": {},
   "outputs": [],
   "source": [
    "df.shape        # number of rows and columns in the dataset\n",
    "df.shape[0]     # rows\n",
    "len(df)         # number of rows in the dataset\n",
    "\n",
    "df.columns\n",
    "List_of_columns = list(df.columns.values)\n",
    "\n",
    "# To get the index and columns as lists, we can use the tolist() method:\n",
    "df.columns.tolist()\n",
    "df.index.tolist()\n",
    "\n",
    "\n",
    "df.info()\n",
    "\n",
    "df.describe(include='all') #  shows a quick statistic summary of your data\n",
    "df['Column_Name'].describe() #  shows a quick statistic summary of the column\n",
    "df['Column_Name'].idmax() # shows the index id of the max value\n",
    "\n",
    "df.rename(columns={'old' : 'new'}, inplace=True) # rename columns\n",
    "\n",
    "df.dtypes  # obtain datatypes for every column\n",
    "df['col_name'] = df['col_name'].astype('int')  type cast\n",
    "\n",
    "pd.to_datetime  # cast column format from object to datetime"
   ]
  },
  {
   "cell_type": "code",
   "execution_count": null,
   "metadata": {},
   "outputs": [],
   "source": [
    "# Set the country name as index - useful for quickly looking up countries using .loc method\n",
    "\n",
    "df.set_index('Country', inplace=True)    "
   ]
  },
  {
   "cell_type": "markdown",
   "metadata": {},
   "source": [
    "### Delete rows and columns"
   ]
  },
  {
   "cell_type": "code",
   "execution_count": null,
   "metadata": {},
   "outputs": [],
   "source": [
    "del df['col_name'] # remove a column\n",
    "df.drop(['AREA', 'REG', 'DEV', 'Type', 'Coverage'], axis=1, inplace=True)  # other way to drop unneeded colums"
   ]
  },
  {
   "cell_type": "markdown",
   "metadata": {},
   "source": [
    "delete-rows-from-df-based-on-a-conditional-expression\n",
    "\n",
    "https://stackoverflow.com/questions/13851535/delete-rows-from-a-pandas-dataframe-based-on-a-conditional-expression-involving\n",
    "\n",
    "Dropping Rows And Columns\n",
    "\n",
    "https://chrisalbon.com/python/data_wrangling/pandas_dropping_column_and_rows/"
   ]
  },
  {
   "cell_type": "markdown",
   "metadata": {},
   "source": [
    "### Files I/O"
   ]
  },
  {
   "cell_type": "markdown",
   "metadata": {},
   "source": [
    "Data Format | READ | SAVE\n",
    "--- | ---  | ---\n",
    "csv | pd.read_csv() | df.to_csv()\n",
    "json | pd.read_json() | df.to_json()\n",
    "Excel | pd.read_excel() | df.to_excel()\n",
    "sql | pd.read_sql() | df.to_sql()"
   ]
  },
  {
   "cell_type": "code",
   "execution_count": null,
   "metadata": {},
   "outputs": [],
   "source": [
    "file='files.csv'\n",
    "df = pd.read_csv(file, sep=';', nrows=10, usecols=['Col name 1','Col name 2'])  \n",
    "# or import everything and then filter the columns you want\n",
    "# Use index_col=0 to use first column as index.\n",
    "\n",
    "If there is no header, you can then add the header with:\n",
    "hearders=[\"column A\", \"column B\", …]\n",
    "df.columns=headers\n",
    "\n",
    "In Save use option index=False\n",
    "df.to_csv('file.csv', index=False)"
   ]
  },
  {
   "cell_type": "markdown",
   "metadata": {},
   "source": [
    "### Selection"
   ]
  },
  {
   "cell_type": "code",
   "execution_count": null,
   "metadata": {},
   "outputs": [],
   "source": [
    "df2 = df[['Year', 'Class']]  # create a df with only selected columns\n",
    "df3 = df['Year'] is a series\n",
    "df3 = df[['Year']] is a dataframe\n",
    "\n",
    "df[:5] # show first 5 rows\n",
    "df[-5:] # show last 5 rows\n",
    "OR\n",
    "df.head()\n",
    "df.tail(3)"
   ]
  },
  {
   "cell_type": "code",
   "execution_count": null,
   "metadata": {},
   "outputs": [],
   "source": [
    "df['Year'].unique()   # creates an array of unique values\n",
    "df.Colum_name.nunique()  # Count unique values"
   ]
  },
  {
   "cell_type": "code",
   "execution_count": null,
   "metadata": {},
   "outputs": [],
   "source": [
    "value_counts(dropna=False).to_frame()  # converted to dataframe\n",
    "\n",
    "df.replace(['#', 'UNKNOWN'], np.nan, inplace=True)   replaces values on entire df\n",
    "df['Year of Construction'].replace([0, 1900, 1878, 1911, 1860, 1851, 199], np.nan, inplace=True)  replaces value on one column\n",
    "\n",
    "\n",
    "df['Col_name'] = 4   # create a column with same value\n",
    "\n",
    "df = df.assign(new_columns = df['existing_column'] * 2)"
   ]
  },
  {
   "cell_type": "code",
   "execution_count": null,
   "metadata": {},
   "outputs": [],
   "source": [
    "df = df[pd.notnull(df['Col_name'])] # select only rows where Loc is not NaN, not null\n",
    "df1 = df[df['col_name'] == value]    # creates a new df with only the rows that meet the criteria"
   ]
  },
  {
   "cell_type": "markdown",
   "metadata": {},
   "source": [
    "For more options see select-rows-in-dataframe-by-conditions-on-multiple-columns\n",
    "https://thispointer.com/python-pandas-select-rows-in-dataframe-by-conditions-on-multiple-columns/"
   ]
  },
  {
   "cell_type": "code",
   "execution_count": null,
   "metadata": {},
   "outputs": [],
   "source": [
    "FIND / SEARCH\n",
    "\n",
    "df.loc[lambda df: df['Col_name'] == 10409994]  # find / search, show the row where Col_name field has a specific value\n",
    "df.at[value, 'Column_Name']\n",
    "df[df['Col_name'] == 10409994]    # simpler\n",
    "df[index_nr]  find record by index\n",
    "\n",
    "df[df['id'].isin(['a','b'])] # search multiple values\n",
    "\n",
    "# compare two df, check common records\n",
    "df1['col_name1'].isin(df2['col_name2']).value_counts()\n",
    "\n",
    "\n",
    "df[df['col_name'].isin(list_of_id)]\n",
    "\n",
    "df[df['A'].str.contains(\"hello\")]   # select rows by partial string\n",
    "\n",
    "# select with multiple causes\n",
    "check_recipes = recipes.loc[\n",
    "    (recipes[\"rice\"] == 1) &\n",
    "    (recipes[\"soy_sauce\"] == 1) &\n",
    "    (recipes[\"wasabi\"] == 1) &\n",
    "    (recipes[\"seaweed\"] == 1)\n",
    "]   # selects the rows in recipes where the indicated columns have value == 1"
   ]
  },
  {
   "cell_type": "code",
   "execution_count": null,
   "metadata": {},
   "outputs": [],
   "source": [
    "# sort df over a column\n",
    "\n",
    "df.sort_values(by=['col1']) "
   ]
  },
  {
   "cell_type": "code",
   "execution_count": null,
   "metadata": {},
   "outputs": [],
   "source": [
    "# Iterate through dataframe:\n",
    "for index, row in df.iterrows():\n",
    "    print(row['c1'], row['c2'])"
   ]
  },
  {
   "cell_type": "markdown",
   "metadata": {},
   "source": [
    "### lambda function"
   ]
  },
  {
   "cell_type": "code",
   "execution_count": null,
   "metadata": {},
   "outputs": [],
   "source": [
    "df['col_2'] = df[['col1']].apply(lambda x: f(x['col1']) , axis=1 )\n",
    "df['col_3'] = df.apply(lambda x: f(x.col_1, x.col_2), axis=1)\n",
    "df2['HI'] = df2.apply(lambda x: HI_total(x.HI_condition, x.DR_value) , axis=1 )\n",
    "df['new_col'] = df(lambda row: f(row) , axis=1 )  # in f(r) access column values as r.col1, r.col2 "
   ]
  },
  {
   "cell_type": "markdown",
   "metadata": {},
   "source": [
    "how-to-apply-a-function-to-two-columns-of-pandas-dataframe\n",
    "\n",
    "https://stackoverflow.com/questions/13331698/how-to-apply-a-function-to-two-columns-of-pandas-dataframe"
   ]
  },
  {
   "cell_type": "markdown",
   "metadata": {},
   "source": [
    "Tip to speed up the apply\n",
    "\n",
    "https://towardsdatascience.com/add-this-single-word-to-make-your-pandas-apply-faster-90ee2fffe9e8    \n",
    "https://www.kdnuggets.com/2019/11/speed-up-pandas-4x.html"
   ]
  },
  {
   "cell_type": "markdown",
   "metadata": {},
   "source": [
    "### null NaN, duplicates"
   ]
  },
  {
   "cell_type": "code",
   "execution_count": null,
   "metadata": {},
   "outputs": [],
   "source": [
    "# Representation of missig values:\n",
    "\n",
    "np.nan - for floats\n",
    "None - for objects\n",
    "pd.NaT - for date and time\n",
    "\n",
    "pd.NA - for any type; new feature in pandas 1.0; still experimental feature\n",
    "\n",
    "s.isna() will say True\n",
    "\n",
    "For convert column to nullable integers use:  (to avoid that 1 becomes 1.0 just because there are NaN)\n",
    "df['myCol'] = df['myCol'].astype('Int64')"
   ]
  },
  {
   "cell_type": "code",
   "execution_count": null,
   "metadata": {},
   "outputs": [],
   "source": [
    "df[df.isna().any(axis=1)]   # Display rows with one or more columns NaN values , null\n",
    "\n",
    "df.col1.isnull().sum()    # count the null\n",
    "df.dropna(subset=['col1'], inplace=True)    # drop rows with unknown col1"
   ]
  },
  {
   "cell_type": "code",
   "execution_count": null,
   "metadata": {},
   "outputs": [],
   "source": [
    "df1.duplicated(subset='A', keep='first').sum()    # count duplicates in column A\n",
    "\n",
    "df = df.drop_duplicates('column_name', keep='last')  # drop duplicates based on one column"
   ]
  },
  {
   "cell_type": "markdown",
   "metadata": {},
   "source": [
    "### Mix"
   ]
  },
  {
   "cell_type": "code",
   "execution_count": null,
   "metadata": {},
   "outputs": [],
   "source": [
    "# Combine rows (see notebook DS Capstone project)\n",
    "df = df.groupby(['Postcode', 'Borough'], sort=False)['Neighbourhood'].apply(','.join).reset_index()    \n",
    "# aggregates values of Neighbourhood"
   ]
  },
  {
   "cell_type": "code",
   "execution_count": null,
   "metadata": {},
   "outputs": [],
   "source": [
    "df['weekend'] = df['dayofweek'].apply(lambda x: 1 if (x>3)  else 0)    boolean test on a column\n",
    "\n",
    "# convert male to 0 and female to 1:\n",
    "df['Gender'].replace(to_replace=['male','female'], value=[0,1],inplace=True)\n",
    "\n",
    "# identify and remove rows where values in a column are not numeric, as expected; then cast to int\n",
    "df = cell_df[pd.to_numeric(cell_df['ColX'], errors='coerce').notnull()]\n",
    "df['ColX'] = cell_df['ColX'].astype('int')"
   ]
  },
  {
   "cell_type": "code",
   "execution_count": null,
   "metadata": {},
   "outputs": [],
   "source": [
    "To create a column with total sum values of columns:\n",
    "df['Total'] = df.sum(axis=1)  # adds all numeric columns"
   ]
  },
  {
   "cell_type": "markdown",
   "metadata": {},
   "source": [
    "### Indexing and selecting data"
   ]
  },
  {
   "cell_type": "markdown",
   "metadata": {},
   "source": [
    "https://pandas.pydata.org/pandas-docs/stable/user_guide/indexing.html"
   ]
  },
  {
   "cell_type": "markdown",
   "metadata": {},
   "source": [
    "Important article: https://pandas.pydata.org/pandas-docs/stable/user_guide/indexing.html  \n",
    "\n",
    "How to access row/columns in df\n",
    "\n",
    "Read it periodically and practice"
   ]
  },
  {
   "cell_type": "markdown",
   "metadata": {},
   "source": [
    "See good code in notebooks in: C:\\UserData\\paoli-s\\To Backup\\Private\\Business Analytics\\Courses\\IBM Data Science Specialization\\7 - Data Visualization with Python\n"
   ]
  },
  {
   "cell_type": "code",
   "execution_count": null,
   "metadata": {},
   "outputs": [],
   "source": [
    "# Boolean indexing\n",
    "\n",
    "https://pandas.pydata.org/pandas-docs/stable/user_guide/indexing.html#boolean-indexing\n",
    "    \n",
    "#The operators are: | for OR, & for AND, and ~ for NOT. These must be grouped by using parentheses."
   ]
  },
  {
   "cell_type": "markdown",
   "metadata": {},
   "source": [
    "### Plotting"
   ]
  },
  {
   "cell_type": "code",
   "execution_count": null,
   "metadata": {},
   "outputs": [],
   "source": [
    "df[[\"a1\", \"a2\"]].plot(bins=30, kind=\"hist\")    # simplest histogram\n",
    "# To create two separate plots, we set subplots=True"
   ]
  },
  {
   "cell_type": "markdown",
   "metadata": {},
   "source": [
    "Many examples:\n",
    "https://towardsdatascience.com/exploratory-data-analysis-with-pandas-508a5e8a5964"
   ]
  },
  {
   "cell_type": "markdown",
   "metadata": {},
   "source": [
    "### merge and pivots , index"
   ]
  },
  {
   "cell_type": "code",
   "execution_count": 8,
   "metadata": {},
   "outputs": [],
   "source": [
    "file_name = 'sample_data/Simple.txt'\n",
    "data = pd.read_csv(file_name, delimiter=';') "
   ]
  },
  {
   "cell_type": "code",
   "execution_count": 9,
   "metadata": {},
   "outputs": [
    {
     "data": {
      "text/html": [
       "<div>\n",
       "<style scoped>\n",
       "    .dataframe tbody tr th:only-of-type {\n",
       "        vertical-align: middle;\n",
       "    }\n",
       "\n",
       "    .dataframe tbody tr th {\n",
       "        vertical-align: top;\n",
       "    }\n",
       "\n",
       "    .dataframe thead th {\n",
       "        text-align: right;\n",
       "    }\n",
       "</style>\n",
       "<table border=\"1\" class=\"dataframe\">\n",
       "  <thead>\n",
       "    <tr style=\"text-align: right;\">\n",
       "      <th></th>\n",
       "      <th>Comune</th>\n",
       "      <th>Lista</th>\n",
       "      <th>Voti</th>\n",
       "    </tr>\n",
       "  </thead>\n",
       "  <tbody>\n",
       "    <tr>\n",
       "      <th>0</th>\n",
       "      <td>Milano</td>\n",
       "      <td>PD</td>\n",
       "      <td>10</td>\n",
       "    </tr>\n",
       "    <tr>\n",
       "      <th>1</th>\n",
       "      <td>Milano</td>\n",
       "      <td>UDC</td>\n",
       "      <td>20</td>\n",
       "    </tr>\n",
       "    <tr>\n",
       "      <th>2</th>\n",
       "      <td>Roma</td>\n",
       "      <td>PD</td>\n",
       "      <td>10</td>\n",
       "    </tr>\n",
       "    <tr>\n",
       "      <th>3</th>\n",
       "      <td>Roma</td>\n",
       "      <td>UDC</td>\n",
       "      <td>20</td>\n",
       "    </tr>\n",
       "    <tr>\n",
       "      <th>4</th>\n",
       "      <td>Roma</td>\n",
       "      <td>FI</td>\n",
       "      <td>40</td>\n",
       "    </tr>\n",
       "  </tbody>\n",
       "</table>\n",
       "</div>"
      ],
      "text/plain": [
       "   Comune Lista  Voti\n",
       "0  Milano    PD    10\n",
       "1  Milano   UDC    20\n",
       "2    Roma    PD    10\n",
       "3    Roma   UDC    20\n",
       "4    Roma    FI    40"
      ]
     },
     "execution_count": 9,
     "metadata": {},
     "output_type": "execute_result"
    }
   ],
   "source": [
    "data"
   ]
  },
  {
   "cell_type": "code",
   "execution_count": 10,
   "metadata": {},
   "outputs": [
    {
     "data": {
      "text/html": [
       "<div>\n",
       "<style scoped>\n",
       "    .dataframe tbody tr th:only-of-type {\n",
       "        vertical-align: middle;\n",
       "    }\n",
       "\n",
       "    .dataframe tbody tr th {\n",
       "        vertical-align: top;\n",
       "    }\n",
       "\n",
       "    .dataframe thead th {\n",
       "        text-align: right;\n",
       "    }\n",
       "</style>\n",
       "<table border=\"1\" class=\"dataframe\">\n",
       "  <thead>\n",
       "    <tr style=\"text-align: right;\">\n",
       "      <th></th>\n",
       "      <th>Lista</th>\n",
       "      <th>Voti</th>\n",
       "    </tr>\n",
       "    <tr>\n",
       "      <th>Comune</th>\n",
       "      <th></th>\n",
       "      <th></th>\n",
       "    </tr>\n",
       "  </thead>\n",
       "  <tbody>\n",
       "    <tr>\n",
       "      <th>Milano</th>\n",
       "      <td>PD</td>\n",
       "      <td>10</td>\n",
       "    </tr>\n",
       "    <tr>\n",
       "      <th>Milano</th>\n",
       "      <td>UDC</td>\n",
       "      <td>20</td>\n",
       "    </tr>\n",
       "    <tr>\n",
       "      <th>Roma</th>\n",
       "      <td>PD</td>\n",
       "      <td>10</td>\n",
       "    </tr>\n",
       "    <tr>\n",
       "      <th>Roma</th>\n",
       "      <td>UDC</td>\n",
       "      <td>20</td>\n",
       "    </tr>\n",
       "    <tr>\n",
       "      <th>Roma</th>\n",
       "      <td>FI</td>\n",
       "      <td>40</td>\n",
       "    </tr>\n",
       "  </tbody>\n",
       "</table>\n",
       "</div>"
      ],
      "text/plain": [
       "       Lista  Voti\n",
       "Comune            \n",
       "Milano    PD    10\n",
       "Milano   UDC    20\n",
       "Roma      PD    10\n",
       "Roma     UDC    20\n",
       "Roma      FI    40"
      ]
     },
     "execution_count": 10,
     "metadata": {},
     "output_type": "execute_result"
    }
   ],
   "source": [
    "df = data.set_index('Comune')\n",
    "df"
   ]
  },
  {
   "cell_type": "code",
   "execution_count": 11,
   "metadata": {},
   "outputs": [
    {
     "data": {
      "text/plain": [
       "       Comune\n",
       "Lista  Milano      PD\n",
       "       Milano     UDC\n",
       "       Roma        PD\n",
       "       Roma       UDC\n",
       "       Roma        FI\n",
       "Voti   Milano      10\n",
       "       Milano      20\n",
       "       Roma        10\n",
       "       Roma        20\n",
       "       Roma        40\n",
       "dtype: object"
      ]
     },
     "execution_count": 11,
     "metadata": {},
     "output_type": "execute_result"
    }
   ],
   "source": [
    "df.unstack(level=-1)"
   ]
  },
  {
   "cell_type": "code",
   "execution_count": 12,
   "metadata": {},
   "outputs": [
    {
     "data": {
      "text/html": [
       "<div>\n",
       "<style scoped>\n",
       "    .dataframe tbody tr th:only-of-type {\n",
       "        vertical-align: middle;\n",
       "    }\n",
       "\n",
       "    .dataframe tbody tr th {\n",
       "        vertical-align: top;\n",
       "    }\n",
       "\n",
       "    .dataframe thead th {\n",
       "        text-align: right;\n",
       "    }\n",
       "</style>\n",
       "<table border=\"1\" class=\"dataframe\">\n",
       "  <thead>\n",
       "    <tr style=\"text-align: right;\">\n",
       "      <th></th>\n",
       "      <th>Comune</th>\n",
       "      <th>Lista</th>\n",
       "      <th>Voti</th>\n",
       "    </tr>\n",
       "  </thead>\n",
       "  <tbody>\n",
       "    <tr>\n",
       "      <th>0</th>\n",
       "      <td>Milano</td>\n",
       "      <td>PD</td>\n",
       "      <td>10</td>\n",
       "    </tr>\n",
       "    <tr>\n",
       "      <th>1</th>\n",
       "      <td>Milano</td>\n",
       "      <td>UDC</td>\n",
       "      <td>20</td>\n",
       "    </tr>\n",
       "    <tr>\n",
       "      <th>2</th>\n",
       "      <td>Roma</td>\n",
       "      <td>PD</td>\n",
       "      <td>10</td>\n",
       "    </tr>\n",
       "    <tr>\n",
       "      <th>3</th>\n",
       "      <td>Roma</td>\n",
       "      <td>UDC</td>\n",
       "      <td>20</td>\n",
       "    </tr>\n",
       "    <tr>\n",
       "      <th>4</th>\n",
       "      <td>Roma</td>\n",
       "      <td>FI</td>\n",
       "      <td>40</td>\n",
       "    </tr>\n",
       "  </tbody>\n",
       "</table>\n",
       "</div>"
      ],
      "text/plain": [
       "   Comune Lista  Voti\n",
       "0  Milano    PD    10\n",
       "1  Milano   UDC    20\n",
       "2    Roma    PD    10\n",
       "3    Roma   UDC    20\n",
       "4    Roma    FI    40"
      ]
     },
     "execution_count": 12,
     "metadata": {},
     "output_type": "execute_result"
    }
   ],
   "source": [
    "df.reset_index()"
   ]
  },
  {
   "cell_type": "code",
   "execution_count": 13,
   "metadata": {},
   "outputs": [
    {
     "data": {
      "text/html": [
       "<div>\n",
       "<style scoped>\n",
       "    .dataframe tbody tr th:only-of-type {\n",
       "        vertical-align: middle;\n",
       "    }\n",
       "\n",
       "    .dataframe tbody tr th {\n",
       "        vertical-align: top;\n",
       "    }\n",
       "\n",
       "    .dataframe thead th {\n",
       "        text-align: right;\n",
       "    }\n",
       "</style>\n",
       "<table border=\"1\" class=\"dataframe\">\n",
       "  <thead>\n",
       "    <tr style=\"text-align: right;\">\n",
       "      <th>Lista</th>\n",
       "      <th>FI</th>\n",
       "      <th>PD</th>\n",
       "      <th>UDC</th>\n",
       "    </tr>\n",
       "    <tr>\n",
       "      <th>Comune</th>\n",
       "      <th></th>\n",
       "      <th></th>\n",
       "      <th></th>\n",
       "    </tr>\n",
       "  </thead>\n",
       "  <tbody>\n",
       "    <tr>\n",
       "      <th>Milano</th>\n",
       "      <td>NaN</td>\n",
       "      <td>10.0</td>\n",
       "      <td>20.0</td>\n",
       "    </tr>\n",
       "    <tr>\n",
       "      <th>Roma</th>\n",
       "      <td>40.0</td>\n",
       "      <td>10.0</td>\n",
       "      <td>20.0</td>\n",
       "    </tr>\n",
       "  </tbody>\n",
       "</table>\n",
       "</div>"
      ],
      "text/plain": [
       "Lista     FI    PD   UDC\n",
       "Comune                  \n",
       "Milano   NaN  10.0  20.0\n",
       "Roma    40.0  10.0  20.0"
      ]
     },
     "execution_count": 13,
     "metadata": {},
     "output_type": "execute_result"
    }
   ],
   "source": [
    "data.pivot(index='Comune', columns='Lista', values='Voti')"
   ]
  },
  {
   "cell_type": "markdown",
   "metadata": {},
   "source": [
    "#### More complex case, with repeated rows, to aggregate"
   ]
  },
  {
   "cell_type": "code",
   "execution_count": 16,
   "metadata": {},
   "outputs": [
    {
     "data": {
      "text/html": [
       "<div>\n",
       "<style scoped>\n",
       "    .dataframe tbody tr th:only-of-type {\n",
       "        vertical-align: middle;\n",
       "    }\n",
       "\n",
       "    .dataframe tbody tr th {\n",
       "        vertical-align: top;\n",
       "    }\n",
       "\n",
       "    .dataframe thead th {\n",
       "        text-align: right;\n",
       "    }\n",
       "</style>\n",
       "<table border=\"1\" class=\"dataframe\">\n",
       "  <thead>\n",
       "    <tr style=\"text-align: right;\">\n",
       "      <th></th>\n",
       "      <th>Comune</th>\n",
       "      <th>Lista</th>\n",
       "      <th>Voti</th>\n",
       "    </tr>\n",
       "  </thead>\n",
       "  <tbody>\n",
       "    <tr>\n",
       "      <th>0</th>\n",
       "      <td>Milano</td>\n",
       "      <td>PD</td>\n",
       "      <td>10</td>\n",
       "    </tr>\n",
       "    <tr>\n",
       "      <th>1</th>\n",
       "      <td>Milano</td>\n",
       "      <td>PD</td>\n",
       "      <td>15</td>\n",
       "    </tr>\n",
       "    <tr>\n",
       "      <th>2</th>\n",
       "      <td>Milano</td>\n",
       "      <td>UDC</td>\n",
       "      <td>20</td>\n",
       "    </tr>\n",
       "    <tr>\n",
       "      <th>3</th>\n",
       "      <td>Roma</td>\n",
       "      <td>PD</td>\n",
       "      <td>10</td>\n",
       "    </tr>\n",
       "    <tr>\n",
       "      <th>4</th>\n",
       "      <td>Roma</td>\n",
       "      <td>UDC</td>\n",
       "      <td>20</td>\n",
       "    </tr>\n",
       "    <tr>\n",
       "      <th>5</th>\n",
       "      <td>Roma</td>\n",
       "      <td>FI</td>\n",
       "      <td>40</td>\n",
       "    </tr>\n",
       "  </tbody>\n",
       "</table>\n",
       "</div>"
      ],
      "text/plain": [
       "   Comune Lista  Voti\n",
       "0  Milano    PD    10\n",
       "1  Milano    PD    15\n",
       "2  Milano   UDC    20\n",
       "3    Roma    PD    10\n",
       "4    Roma   UDC    20\n",
       "5    Roma    FI    40"
      ]
     },
     "execution_count": 16,
     "metadata": {},
     "output_type": "execute_result"
    }
   ],
   "source": [
    "file_name = 'sample_data/Simple2.txt'\n",
    "data = pd.read_csv(file_name, delimiter=';') \n",
    "data"
   ]
  },
  {
   "cell_type": "code",
   "execution_count": 21,
   "metadata": {},
   "outputs": [
    {
     "data": {
      "text/html": [
       "<div>\n",
       "<style scoped>\n",
       "    .dataframe tbody tr th:only-of-type {\n",
       "        vertical-align: middle;\n",
       "    }\n",
       "\n",
       "    .dataframe tbody tr th {\n",
       "        vertical-align: top;\n",
       "    }\n",
       "\n",
       "    .dataframe thead th {\n",
       "        text-align: right;\n",
       "    }\n",
       "</style>\n",
       "<table border=\"1\" class=\"dataframe\">\n",
       "  <thead>\n",
       "    <tr style=\"text-align: right;\">\n",
       "      <th></th>\n",
       "      <th></th>\n",
       "      <th>Voti</th>\n",
       "    </tr>\n",
       "    <tr>\n",
       "      <th>Comune</th>\n",
       "      <th>Lista</th>\n",
       "      <th></th>\n",
       "    </tr>\n",
       "  </thead>\n",
       "  <tbody>\n",
       "    <tr>\n",
       "      <th rowspan=\"2\" valign=\"top\">Milano</th>\n",
       "      <th>PD</th>\n",
       "      <td>25</td>\n",
       "    </tr>\n",
       "    <tr>\n",
       "      <th>UDC</th>\n",
       "      <td>20</td>\n",
       "    </tr>\n",
       "    <tr>\n",
       "      <th rowspan=\"3\" valign=\"top\">Roma</th>\n",
       "      <th>FI</th>\n",
       "      <td>40</td>\n",
       "    </tr>\n",
       "    <tr>\n",
       "      <th>PD</th>\n",
       "      <td>10</td>\n",
       "    </tr>\n",
       "    <tr>\n",
       "      <th>UDC</th>\n",
       "      <td>20</td>\n",
       "    </tr>\n",
       "  </tbody>\n",
       "</table>\n",
       "</div>"
      ],
      "text/plain": [
       "              Voti\n",
       "Comune Lista      \n",
       "Milano  PD      25\n",
       "        UDC     20\n",
       "Roma    FI      40\n",
       "        PD      10\n",
       "        UDC     20"
      ]
     },
     "execution_count": 21,
     "metadata": {},
     "output_type": "execute_result"
    }
   ],
   "source": [
    "data2 = data.groupby(['Comune', 'Lista']).agg({\"Voti\": \"sum\"})\n",
    "data2"
   ]
  },
  {
   "cell_type": "code",
   "execution_count": 23,
   "metadata": {},
   "outputs": [
    {
     "data": {
      "text/html": [
       "<div>\n",
       "<style scoped>\n",
       "    .dataframe tbody tr th:only-of-type {\n",
       "        vertical-align: middle;\n",
       "    }\n",
       "\n",
       "    .dataframe tbody tr th {\n",
       "        vertical-align: top;\n",
       "    }\n",
       "\n",
       "    .dataframe thead th {\n",
       "        text-align: right;\n",
       "    }\n",
       "</style>\n",
       "<table border=\"1\" class=\"dataframe\">\n",
       "  <thead>\n",
       "    <tr style=\"text-align: right;\">\n",
       "      <th></th>\n",
       "      <th>index</th>\n",
       "      <th>Comune</th>\n",
       "      <th>Lista</th>\n",
       "      <th>Voti</th>\n",
       "    </tr>\n",
       "  </thead>\n",
       "  <tbody>\n",
       "    <tr>\n",
       "      <th>0</th>\n",
       "      <td>0</td>\n",
       "      <td>Milano</td>\n",
       "      <td>PD</td>\n",
       "      <td>25</td>\n",
       "    </tr>\n",
       "    <tr>\n",
       "      <th>1</th>\n",
       "      <td>1</td>\n",
       "      <td>Milano</td>\n",
       "      <td>UDC</td>\n",
       "      <td>20</td>\n",
       "    </tr>\n",
       "    <tr>\n",
       "      <th>2</th>\n",
       "      <td>2</td>\n",
       "      <td>Roma</td>\n",
       "      <td>FI</td>\n",
       "      <td>40</td>\n",
       "    </tr>\n",
       "    <tr>\n",
       "      <th>3</th>\n",
       "      <td>3</td>\n",
       "      <td>Roma</td>\n",
       "      <td>PD</td>\n",
       "      <td>10</td>\n",
       "    </tr>\n",
       "    <tr>\n",
       "      <th>4</th>\n",
       "      <td>4</td>\n",
       "      <td>Roma</td>\n",
       "      <td>UDC</td>\n",
       "      <td>20</td>\n",
       "    </tr>\n",
       "  </tbody>\n",
       "</table>\n",
       "</div>"
      ],
      "text/plain": [
       "   index  Comune Lista  Voti\n",
       "0      0  Milano    PD    25\n",
       "1      1  Milano   UDC    20\n",
       "2      2    Roma    FI    40\n",
       "3      3    Roma    PD    10\n",
       "4      4    Roma   UDC    20"
      ]
     },
     "execution_count": 23,
     "metadata": {},
     "output_type": "execute_result"
    }
   ],
   "source": [
    "data2.reset_index(inplace=True)\n",
    "data2"
   ]
  },
  {
   "cell_type": "code",
   "execution_count": 24,
   "metadata": {},
   "outputs": [
    {
     "data": {
      "text/html": [
       "<div>\n",
       "<style scoped>\n",
       "    .dataframe tbody tr th:only-of-type {\n",
       "        vertical-align: middle;\n",
       "    }\n",
       "\n",
       "    .dataframe tbody tr th {\n",
       "        vertical-align: top;\n",
       "    }\n",
       "\n",
       "    .dataframe thead th {\n",
       "        text-align: right;\n",
       "    }\n",
       "</style>\n",
       "<table border=\"1\" class=\"dataframe\">\n",
       "  <thead>\n",
       "    <tr style=\"text-align: right;\">\n",
       "      <th>Lista</th>\n",
       "      <th>FI</th>\n",
       "      <th>PD</th>\n",
       "      <th>UDC</th>\n",
       "    </tr>\n",
       "    <tr>\n",
       "      <th>Comune</th>\n",
       "      <th></th>\n",
       "      <th></th>\n",
       "      <th></th>\n",
       "    </tr>\n",
       "  </thead>\n",
       "  <tbody>\n",
       "    <tr>\n",
       "      <th>Milano</th>\n",
       "      <td>NaN</td>\n",
       "      <td>25.0</td>\n",
       "      <td>20.0</td>\n",
       "    </tr>\n",
       "    <tr>\n",
       "      <th>Roma</th>\n",
       "      <td>40.0</td>\n",
       "      <td>10.0</td>\n",
       "      <td>20.0</td>\n",
       "    </tr>\n",
       "  </tbody>\n",
       "</table>\n",
       "</div>"
      ],
      "text/plain": [
       "Lista     FI    PD   UDC\n",
       "Comune                  \n",
       "Milano   NaN  25.0  20.0\n",
       "Roma    40.0  10.0  20.0"
      ]
     },
     "execution_count": 24,
     "metadata": {},
     "output_type": "execute_result"
    }
   ],
   "source": [
    "data2.pivot(index='Comune', columns='Lista', values='Voti')"
   ]
  },
  {
   "cell_type": "code",
   "execution_count": null,
   "metadata": {},
   "outputs": [],
   "source": []
  }
 ],
 "metadata": {
  "kernelspec": {
   "display_name": "Python 3",
   "language": "python",
   "name": "python3"
  },
  "language_info": {
   "codemirror_mode": {
    "name": "ipython",
    "version": 3
   },
   "file_extension": ".py",
   "mimetype": "text/x-python",
   "name": "python",
   "nbconvert_exporter": "python",
   "pygments_lexer": "ipython3",
   "version": "3.8.0"
  }
 },
 "nbformat": 4,
 "nbformat_minor": 4
}
